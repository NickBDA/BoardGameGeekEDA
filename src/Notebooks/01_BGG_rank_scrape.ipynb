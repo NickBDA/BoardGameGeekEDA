{
 "cells": [
  {
   "cell_type": "markdown",
   "metadata": {},
   "source": [
    "Modules and libraries"
   ]
  },
  {
   "cell_type": "code",
   "execution_count": 2,
   "metadata": {},
   "outputs": [
    {
     "data": {
      "text/plain": [
       "'installs for required imports'"
      ]
     },
     "execution_count": 2,
     "metadata": {},
     "output_type": "execute_result"
    }
   ],
   "source": [
    "'''installs for required imports'''\n",
    "\n",
    "#!pip install selenium\n",
    "#!pip install webdriver-manager\n",
    "#!pip install lxml\n"
   ]
  },
  {
   "cell_type": "markdown",
   "metadata": {},
   "source": [
    "Imports"
   ]
  },
  {
   "cell_type": "code",
   "execution_count": 3,
   "metadata": {},
   "outputs": [
    {
     "name": "stdout",
     "output_type": "stream",
     "text": [
      "2022-11-05 11:52:42.195403\n"
     ]
    }
   ],
   "source": [
    "'''required imports completed. functionally tested on Python 3.10.6'''\n",
    "from bs4 import BeautifulSoup as bs\n",
    "import requests\n",
    "from datetime import datetime\n",
    "import re\n",
    "import time\n",
    "import pandas as pd\n",
    "from selenium import webdriver\n",
    "from selenium.webdriver.common.by import By\n",
    "from selenium.webdriver.common.keys import Keys\n",
    "\n",
    "from webdriver_manager.chrome import ChromeDriverManager\n",
    "\n",
    "print(datetime.now())"
   ]
  },
  {
   "cell_type": "markdown",
   "metadata": {},
   "source": [
    "Proof of concept: Finds data from page 1 and inicialises lists required for subsequent loops."
   ]
  },
  {
   "cell_type": "code",
   "execution_count": 4,
   "metadata": {},
   "outputs": [],
   "source": [
    "url = \"https://boardgamegeek.com/browse/boardgame\"\n",
    "\n",
    "def launch_webdriver():\n",
    "    '''\n",
    "    Launches bootleg Chrome webdriver in a dead window\n",
    "    '''\n",
    "    driver = webdriver.Chrome(executable_path=r\"/usr/local/bin/chromedriver_2\")\n",
    "    time.sleep(2)\n",
    "    return driver    "
   ]
  },
  {
   "cell_type": "code",
   "execution_count": 5,
   "metadata": {},
   "outputs": [],
   "source": [
    "#PENDING: package this cell as a function\n",
    "driver = webdriver.Chrome(executable_path=r\"/usr/local/bin/chromedriver_2\")\n",
    "time.sleep(2)"
   ]
  },
  {
   "cell_type": "code",
   "execution_count": 6,
   "metadata": {},
   "outputs": [],
   "source": [
    "#launch_webdriver()"
   ]
  },
  {
   "cell_type": "code",
   "execution_count": 7,
   "metadata": {},
   "outputs": [],
   "source": [
    "def get_page_1_and_make_soup(driver):   \n",
    "    '''\n",
    "    Gets first page, makes soup\n",
    "    '''\n",
    "    url = \"https://boardgamegeek.com/browse/boardgame\"\n",
    "    driver.get(url)\n",
    "    time.sleep(3)\n",
    "    soup = bs(driver.page_source,\"lxml\")\n",
    "    print(soup.title)\n",
    "    return soup"
   ]
  },
  {
   "cell_type": "code",
   "execution_count": null,
   "metadata": {},
   "outputs": [],
   "source": [
    "#PENDING: package this cell as a function\n",
    "url = \"https://boardgamegeek.com/browse/boardgame\"\n",
    "driver.get(url)\n",
    "time.sleep(2)\n",
    "\n",
    "soup = bs(driver.page_source,\"lxml\")\n",
    "print(soup.title)"
   ]
  },
  {
   "cell_type": "code",
   "execution_count": null,
   "metadata": {},
   "outputs": [],
   "source": [
    "#get_page_1_and_make_soup(driver)\n",
    "#can´t seem to get this to work. lots of undefined errors"
   ]
  },
  {
   "cell_type": "code",
   "execution_count": null,
   "metadata": {},
   "outputs": [],
   "source": [
    "all_a = soup.find_all('a')"
   ]
  },
  {
   "cell_type": "code",
   "execution_count": null,
   "metadata": {},
   "outputs": [
    {
     "name": "stdout",
     "output_type": "stream",
     "text": [
      "746\n"
     ]
    }
   ],
   "source": [
    "print(len(all_a)) #746 for page 1\n",
    "#print(all_a)"
   ]
  },
  {
   "cell_type": "code",
   "execution_count": null,
   "metadata": {},
   "outputs": [
    {
     "name": "stdout",
     "output_type": "stream",
     "text": [
      "100\n"
     ]
    }
   ],
   "source": [
    "#ranking\n",
    "'''\n",
    "<td class=\"collection_rank\" align=\"center\">\n",
    "\t\t\t<a name=\"1\"></a>\t\t\t1\t\t\t\n",
    "\t\t\t\t\t</td>\n",
    "'''\n",
    "ranking = []\n",
    "all_td = soup.find_all(\"td\", class_=\"collection_rank\")\n",
    "for td in all_td:\n",
    "       ranking.append(td.get_text(strip=True))\n",
    "print(len(ranking))"
   ]
  },
  {
   "cell_type": "code",
   "execution_count": null,
   "metadata": {},
   "outputs": [
    {
     "name": "stdout",
     "output_type": "stream",
     "text": [
      "100\n"
     ]
    }
   ],
   "source": [
    "#name\n",
    "'''\n",
    "<td id=\"CEcell_objectname1\" class=\"collection_objectname r\n",
    "\t\t\t\t\t\t browse\">\n",
    "\t\n",
    "\t<div id=\"status_objectname1\"></div>\n",
    "\t<div id=\"results_objectname1\" style=\"z-index:1000;\" onclick=\"\">\n",
    "\t\t\n",
    "\t\t\t\t\t<a href=\"/boardgame/174430/gloomhaven\" class=\"primary\">Gloomhaven</a>\n",
    "\t\t\t\t\n",
    "\t\t\t\t\t\t\t<span class=\"smallerfont dull\">(2017)</span>\n",
    "\t\t\t\t\t\t\t\t\n",
    "\t</div>\n",
    "\n",
    "\t\t\t<p class=\"smallefont dull\" style=\"margin: 2px 0 0 0;\">\n",
    "\t\t\tVanquish monsters with strategic cardplay. Fulfill your quest to leave your legacy!\n",
    "\t\t</p>\n",
    "\t</td>\n",
    "'''\n",
    "name = []\n",
    "all_td = soup.find_all(\"td\", class_=\"collection_objectname browse\")\n",
    "for td in all_td:\n",
    "       name.append(td.a.get_text(strip=True))\n",
    "print(len(name))"
   ]
  },
  {
   "cell_type": "code",
   "execution_count": null,
   "metadata": {},
   "outputs": [
    {
     "name": "stdout",
     "output_type": "stream",
     "text": [
      "100\n"
     ]
    }
   ],
   "source": [
    "#game_id\n",
    "'''\n",
    "all_td[0].a \n",
    "returns <a class=\"primary\" href=\"/boardgame/174430/gloomhaven\">Gloomhaven</a>\n",
    "'''\n",
    "all_a_in_td = []\n",
    "game_id = []\n",
    "for i in range(0, len(all_td)):\n",
    "    all_a_in_td.append(str(all_td[i].a))\n",
    "for i in all_a_in_td:\n",
    "    game_id.append(i.split(\"/\")[2])\n",
    "print(len(game_id))\n",
    "#print(game_id)"
   ]
  },
  {
   "cell_type": "markdown",
   "metadata": {},
   "source": [
    "Bucle de las 14 paginas del ranking (1500 juegos) despues de la primera pagina"
   ]
  },
  {
   "cell_type": "code",
   "execution_count": null,
   "metadata": {},
   "outputs": [],
   "source": [
    "def url_creator(from_page, to_page):\n",
    "    '''\n",
    "    creates a list of URLS after first page to query with Selenium\n",
    "    '''\n",
    "    return [\n",
    "        f\"https://boardgamegeek.com/browse/boardgame/page/{i}\"\n",
    "        for i in range(from_page, (to_page + 1))\n",
    "    ]"
   ]
  },
  {
   "cell_type": "code",
   "execution_count": null,
   "metadata": {},
   "outputs": [],
   "source": [
    "'''def url_creator(from_page, to_page):\n",
    "    '''\n",
    "    creates a list of URLS after first page to query with Selenium\n",
    "    '''\n",
    "    urls = []\n",
    "    #end_range = int(upto_page)\n",
    "    for i in range(from_page, (to_page + 1)):\n",
    "        #print(from_page, to_page)\n",
    "        #print(i)\n",
    "        urls.append(f\"https://boardgamegeek.com/browse/boardgame/page/{i}\")\n",
    "    return urls'''"
   ]
  },
  {
   "cell_type": "code",
   "execution_count": null,
   "metadata": {},
   "outputs": [],
   "source": [
    "urls = url_creator(2, 15)"
   ]
  },
  {
   "cell_type": "code",
   "execution_count": null,
   "metadata": {},
   "outputs": [
    {
     "name": "stdout",
     "output_type": "stream",
     "text": [
      "<title>Browse Board Games | BoardGameGeek</title>\n",
      "200\n",
      "200\n",
      "200\n",
      "<title>Browse Board Games | BoardGameGeek</title>\n",
      "300\n",
      "300\n",
      "300\n",
      "<title>Browse Board Games | BoardGameGeek</title>\n",
      "400\n",
      "400\n",
      "400\n",
      "<title>Browse Board Games | BoardGameGeek</title>\n",
      "500\n",
      "500\n",
      "500\n",
      "<title>Browse Board Games | BoardGameGeek</title>\n",
      "600\n",
      "600\n",
      "600\n",
      "<title>Browse Board Games | BoardGameGeek</title>\n",
      "700\n",
      "700\n",
      "700\n",
      "<title>Browse Board Games | BoardGameGeek</title>\n",
      "800\n",
      "800\n",
      "800\n",
      "<title>Browse Board Games | BoardGameGeek</title>\n",
      "900\n",
      "900\n",
      "900\n",
      "<title>Browse Board Games | BoardGameGeek</title>\n",
      "1000\n",
      "1000\n",
      "1000\n",
      "<title>Browse Board Games | BoardGameGeek</title>\n",
      "1100\n",
      "1100\n",
      "1100\n",
      "<title>Browse Board Games | BoardGameGeek</title>\n",
      "1200\n",
      "1200\n",
      "1200\n",
      "<title>Browse Board Games | BoardGameGeek</title>\n",
      "1300\n",
      "1300\n",
      "1300\n",
      "<title>Browse Board Games | BoardGameGeek</title>\n",
      "1400\n",
      "1400\n",
      "1400\n",
      "<title>Browse Board Games | BoardGameGeek</title>\n",
      "1500\n",
      "1500\n",
      "1500\n"
     ]
    }
   ],
   "source": [
    "for i in urls:\n",
    "   time.sleep(3)\n",
    "   driver.get(i)\n",
    "   soup = bs(driver.page_source,\"lxml\")\n",
    "   print(soup.title)\n",
    "   all_a = soup.find_all('a')\n",
    "\n",
    "   all_td = soup.find_all(\"td\", class_=\"collection_rank\")\n",
    "   for td in all_td:\n",
    "      ranking.append(td.get_text(strip=True))\n",
    "   print(len(ranking))\n",
    "\n",
    "   all_td = soup.find_all(\"td\", class_=\"collection_objectname browse\")\n",
    "   for td in all_td:\n",
    "         name.append(td.a.get_text(strip=True))\n",
    "   print(len(name))\n",
    "\n",
    "   all_a_in_td = [str(all_td[x].a) for x in range(len(all_td))]\n",
    "   for x in all_a_in_td:\n",
    "      game_id.append(x.split(\"/\")[2])\n",
    "   print(len(game_id))\n",
    "\n",
    "'''   all_a_in_td = []\n",
    "   for x in range(0, len(all_td)):\n",
    "      all_a_in_td.append(str(all_td[x].a))\n",
    "   for x in all_a_in_td:\n",
    "      game_id.append(x.split(\"/\")[2])\n",
    "   print(len(game_id))'''"
   ]
  },
  {
   "cell_type": "code",
   "execution_count": null,
   "metadata": {},
   "outputs": [
    {
     "name": "stdout",
     "output_type": "stream",
     "text": [
      "1500\n"
     ]
    },
    {
     "data": {
      "text/html": [
       "<div>\n",
       "<style scoped>\n",
       "    .dataframe tbody tr th:only-of-type {\n",
       "        vertical-align: middle;\n",
       "    }\n",
       "\n",
       "    .dataframe tbody tr th {\n",
       "        vertical-align: top;\n",
       "    }\n",
       "\n",
       "    .dataframe thead th {\n",
       "        text-align: right;\n",
       "    }\n",
       "</style>\n",
       "<table border=\"1\" class=\"dataframe\">\n",
       "  <thead>\n",
       "    <tr style=\"text-align: right;\">\n",
       "      <th></th>\n",
       "      <th>game_id</th>\n",
       "      <th>name</th>\n",
       "      <th>ranking</th>\n",
       "    </tr>\n",
       "  </thead>\n",
       "  <tbody>\n",
       "    <tr>\n",
       "      <th>0</th>\n",
       "      <td>174430</td>\n",
       "      <td>Gloomhaven</td>\n",
       "      <td>1</td>\n",
       "    </tr>\n",
       "    <tr>\n",
       "      <th>1</th>\n",
       "      <td>224517</td>\n",
       "      <td>Brass: Birmingham</td>\n",
       "      <td>2</td>\n",
       "    </tr>\n",
       "    <tr>\n",
       "      <th>2</th>\n",
       "      <td>161936</td>\n",
       "      <td>Pandemic Legacy: Season 1</td>\n",
       "      <td>3</td>\n",
       "    </tr>\n",
       "    <tr>\n",
       "      <th>3</th>\n",
       "      <td>342942</td>\n",
       "      <td>Ark Nova</td>\n",
       "      <td>4</td>\n",
       "    </tr>\n",
       "    <tr>\n",
       "      <th>4</th>\n",
       "      <td>167791</td>\n",
       "      <td>Terraforming Mars</td>\n",
       "      <td>5</td>\n",
       "    </tr>\n",
       "    <tr>\n",
       "      <th>...</th>\n",
       "      <td>...</td>\n",
       "      <td>...</td>\n",
       "      <td>...</td>\n",
       "    </tr>\n",
       "    <tr>\n",
       "      <th>1495</th>\n",
       "      <td>303553</td>\n",
       "      <td>Skulls of Sedlec</td>\n",
       "      <td>1496</td>\n",
       "    </tr>\n",
       "    <tr>\n",
       "      <th>1496</th>\n",
       "      <td>264198</td>\n",
       "      <td>Warhammer Quest: Blackstone Fortress</td>\n",
       "      <td>1497</td>\n",
       "    </tr>\n",
       "    <tr>\n",
       "      <th>1497</th>\n",
       "      <td>302425</td>\n",
       "      <td>Unlock!: Mythic Adventures</td>\n",
       "      <td>1498</td>\n",
       "    </tr>\n",
       "    <tr>\n",
       "      <th>1498</th>\n",
       "      <td>34887</td>\n",
       "      <td>Revolution!</td>\n",
       "      <td>1499</td>\n",
       "    </tr>\n",
       "    <tr>\n",
       "      <th>1499</th>\n",
       "      <td>300001</td>\n",
       "      <td>Renature</td>\n",
       "      <td>1500</td>\n",
       "    </tr>\n",
       "  </tbody>\n",
       "</table>\n",
       "<p>1500 rows × 3 columns</p>\n",
       "</div>"
      ],
      "text/plain": [
       "     game_id                                  name ranking\n",
       "0     174430                            Gloomhaven       1\n",
       "1     224517                     Brass: Birmingham       2\n",
       "2     161936             Pandemic Legacy: Season 1       3\n",
       "3     342942                              Ark Nova       4\n",
       "4     167791                     Terraforming Mars       5\n",
       "...      ...                                   ...     ...\n",
       "1495  303553                      Skulls of Sedlec    1496\n",
       "1496  264198  Warhammer Quest: Blackstone Fortress    1497\n",
       "1497  302425            Unlock!: Mythic Adventures    1498\n",
       "1498   34887                           Revolution!    1499\n",
       "1499  300001                              Renature    1500\n",
       "\n",
       "[1500 rows x 3 columns]"
      ]
     },
     "execution_count": 21,
     "metadata": {},
     "output_type": "execute_result"
    }
   ],
   "source": [
    "BGG_top = pd.DataFrame({\"game_id\": game_id,\n",
    "                    \"name\": name,\n",
    "                    \"ranking\": ranking})\n",
    "\n",
    "print(len(BGG_top))\n",
    "BGG_top"
   ]
  },
  {
   "cell_type": "code",
   "execution_count": null,
   "metadata": {},
   "outputs": [
    {
     "data": {
      "text/html": [
       "<div>\n",
       "<style scoped>\n",
       "    .dataframe tbody tr th:only-of-type {\n",
       "        vertical-align: middle;\n",
       "    }\n",
       "\n",
       "    .dataframe tbody tr th {\n",
       "        vertical-align: top;\n",
       "    }\n",
       "\n",
       "    .dataframe thead th {\n",
       "        text-align: right;\n",
       "    }\n",
       "</style>\n",
       "<table border=\"1\" class=\"dataframe\">\n",
       "  <thead>\n",
       "    <tr style=\"text-align: right;\">\n",
       "      <th></th>\n",
       "      <th>game_id</th>\n",
       "      <th>name</th>\n",
       "      <th>ranking</th>\n",
       "    </tr>\n",
       "  </thead>\n",
       "  <tbody>\n",
       "    <tr>\n",
       "      <th>0</th>\n",
       "      <td>174430</td>\n",
       "      <td>Gloomhaven</td>\n",
       "      <td>1</td>\n",
       "    </tr>\n",
       "    <tr>\n",
       "      <th>1</th>\n",
       "      <td>224517</td>\n",
       "      <td>Brass: Birmingham</td>\n",
       "      <td>2</td>\n",
       "    </tr>\n",
       "    <tr>\n",
       "      <th>2</th>\n",
       "      <td>161936</td>\n",
       "      <td>Pandemic Legacy: Season 1</td>\n",
       "      <td>3</td>\n",
       "    </tr>\n",
       "    <tr>\n",
       "      <th>3</th>\n",
       "      <td>342942</td>\n",
       "      <td>Ark Nova</td>\n",
       "      <td>4</td>\n",
       "    </tr>\n",
       "    <tr>\n",
       "      <th>4</th>\n",
       "      <td>167791</td>\n",
       "      <td>Terraforming Mars</td>\n",
       "      <td>5</td>\n",
       "    </tr>\n",
       "  </tbody>\n",
       "</table>\n",
       "</div>"
      ],
      "text/plain": [
       "  game_id                       name ranking\n",
       "0  174430                 Gloomhaven       1\n",
       "1  224517          Brass: Birmingham       2\n",
       "2  161936  Pandemic Legacy: Season 1       3\n",
       "3  342942                   Ark Nova       4\n",
       "4  167791          Terraforming Mars       5"
      ]
     },
     "execution_count": 22,
     "metadata": {},
     "output_type": "execute_result"
    }
   ],
   "source": [
    "BGG_top.head()"
   ]
  },
  {
   "cell_type": "code",
   "execution_count": null,
   "metadata": {},
   "outputs": [
    {
     "name": "stdout",
     "output_type": "stream",
     "text": [
      "game_id        174430\n",
      "name       Gloomhaven\n",
      "ranking             1\n",
      "Name: 0, dtype: object\n",
      "--------------\n",
      "game_id                    42\n",
      "name       Tigris & Euphrates\n",
      "ranking                   101\n",
      "Name: 100, dtype: object\n",
      "--------------\n",
      "game_id                    271055\n",
      "name       Dwellings of Eldervale\n",
      "ranking                       201\n",
      "Name: 200, dtype: object\n",
      "--------------\n",
      "game_id                              2653\n",
      "name       Survive: Escape from Atlantis!\n",
      "ranking                               301\n",
      "Name: 300, dtype: object\n",
      "--------------\n",
      "game_id                301880\n",
      "name       Raiders of Scythia\n",
      "ranking                   401\n",
      "Name: 400, dtype: object\n",
      "--------------\n",
      "game_id          24417\n",
      "name       Factory Fun\n",
      "ranking           1401\n",
      "Name: 1400, dtype: object\n"
     ]
    }
   ],
   "source": [
    "print(BGG_top.iloc[0])\n",
    "print(\"--------------\")\n",
    "print(BGG_top.iloc[100])\n",
    "print(\"--------------\")\n",
    "print(BGG_top.iloc[200])\n",
    "print(\"--------------\")\n",
    "print(BGG_top.iloc[300])\n",
    "print(\"--------------\")\n",
    "print(BGG_top.iloc[400])\n",
    "print(\"--------------\")\n",
    "print(BGG_top.iloc[1400])"
   ]
  },
  {
   "cell_type": "code",
   "execution_count": null,
   "metadata": {},
   "outputs": [
    {
     "name": "stdout",
     "output_type": "stream",
     "text": [
      "174430\n",
      "174430\n"
     ]
    }
   ],
   "source": [
    "print(BGG_top.game_id[0])\n",
    "print(game_id[0])"
   ]
  },
  {
   "cell_type": "markdown",
   "metadata": {},
   "source": [
    "Save ranking as csv"
   ]
  },
  {
   "cell_type": "code",
   "execution_count": null,
   "metadata": {},
   "outputs": [
    {
     "data": {
      "text/plain": [
       "pandas.core.frame.DataFrame"
      ]
     },
     "execution_count": 25,
     "metadata": {},
     "output_type": "execute_result"
    }
   ],
   "source": [
    "type(BGG_top)"
   ]
  },
  {
   "cell_type": "code",
   "execution_count": null,
   "metadata": {},
   "outputs": [],
   "source": [
    "BGG_top.to_csv(\"BGG_top_2022_10_23.csv\", index=False)"
   ]
  },
  {
   "cell_type": "markdown",
   "metadata": {},
   "source": [
    "BGG Library for extended game data"
   ]
  },
  {
   "cell_type": "code",
   "execution_count": null,
   "metadata": {},
   "outputs": [],
   "source": [
    "import boardgamegeek\n",
    "from boardgamegeek import BGGClient\n",
    "bgg = boardgamegeek.BGGClient()"
   ]
  },
  {
   "cell_type": "code",
   "execution_count": null,
   "metadata": {},
   "outputs": [],
   "source": [
    "indices = game_id.copy()"
   ]
  },
  {
   "cell_type": "code",
   "execution_count": null,
   "metadata": {},
   "outputs": [
    {
     "data": {
      "text/plain": [
       "list"
      ]
     },
     "execution_count": 29,
     "metadata": {},
     "output_type": "execute_result"
    }
   ],
   "source": [
    "type(indices)"
   ]
  },
  {
   "cell_type": "code",
   "execution_count": null,
   "metadata": {},
   "outputs": [],
   "source": [
    "game_data = []\n",
    "for count, i in enumerate(range(0, 1500, 150), start=1):\n",
    "    print(f\"{str(count)}/10  - {str(i)}\", end=\"\\r\")\n",
    "\n",
    "    #ids = list(range(i, i+150))\n",
    "    chunk_of_games = bgg.game_list(indices[i: i+ 150])\n",
    "    game_data.extend([game.data() for game in chunk_of_games])"
   ]
  },
  {
   "cell_type": "code",
   "execution_count": null,
   "metadata": {},
   "outputs": [
    {
     "name": "stdout",
     "output_type": "stream",
     "text": [
      "10/10  - 1350\r"
     ]
    }
   ],
   "source": [
    "'''game_data = []\n",
    "count = 1\n",
    "for i in range(0, 1500, 150):\n",
    "    print(str(count)+\"/10  - \"+str(i), end=\"\\r\")\n",
    "\n",
    "    #ids = list(range(i, i+150))\n",
    "    chunk_of_games = bgg.game_list(indices[i: i+ 150])\n",
    "    game_data.extend([game.data() for game in chunk_of_games])\n",
    "    count += 1'''"
   ]
  },
  {
   "cell_type": "code",
   "execution_count": null,
   "metadata": {},
   "outputs": [
    {
     "data": {
      "text/plain": [
       "dict_keys(['id', 'name', 'alternative_names', 'thumbnail', 'image', 'expansion', 'accessory', 'families', 'categories', 'implementations', 'mechanics', 'designers', 'artists', 'publishers', 'description', 'expansions', 'expands', 'yearpublished', 'minplayers', 'maxplayers', 'playingtime', 'minplaytime', 'maxplaytime', 'minage', 'stats', 'suggested_players'])"
      ]
     },
     "execution_count": 31,
     "metadata": {},
     "output_type": "execute_result"
    }
   ],
   "source": [
    "game_data[0].keys()"
   ]
  },
  {
   "cell_type": "code",
   "execution_count": null,
   "metadata": {},
   "outputs": [
    {
     "name": "stdout",
     "output_type": "stream",
     "text": [
      "1500\n",
      "1500\n",
      "<class 'list'>\n"
     ]
    }
   ],
   "source": [
    "print(len(indices))\n",
    "print(len(game_data))\n",
    "print(type(game_data))"
   ]
  },
  {
   "cell_type": "code",
   "execution_count": null,
   "metadata": {},
   "outputs": [],
   "source": [
    "#game_data[0][\"name\"]                                               #'Gloomhaven'\n",
    "expansion = [g[\"expansion\"] for g in game_data]                     #False\n",
    "accessory = [g[\"accessory\"] for g in game_data]                     #False\n",
    "categories = [g[\"categories\"] for g in game_data]                   #['Adventure', 'Exploration', 'Fantasy', 'Fighting', 'Miniatures']\n",
    "mechanics = [g[\"mechanics\"] for g in game_data]                     #['Action Queue', 'Action Retrieval', 'Campaign / Battle Card Driven', ETC\n",
    "yearpublished = [g[\"yearpublished\"] for g in game_data]             #2017\n",
    "minplayers = [g[\"minplayers\"] for g in game_data]                   #1\n",
    "maxplayers = [g[\"maxplayers\"] for g in game_data]                   #4\n",
    "playingtime = [g[\"playingtime\"] for g in game_data]                 #120\n",
    "minplaytime = [g[\"minplaytime\"] for g in game_data]                 #60\n",
    "maxplaytime = [g[\"maxplaytime\"] for g in game_data]                 #120\n",
    "minage = [g[\"minage\"] for g in game_data]                           #14\n",
    "usersrate = [g[\"stats\"][\"usersrated\"] for g in game_data]           #52779\n",
    "average = [g[\"stats\"][\"average\"] for g in game_data]                #8.68929\n",
    "bayesaverage = [g[\"stats\"][\"bayesaverage\"] for g in game_data]      #8.45831\n",
    "stddev = [g[\"stats\"][\"stddev\"] for g in game_data]                  #1.66656\n",
    "owned = [g[\"stats\"][\"owned\"] for g in game_data]                    #46161\n",
    "numcomments = [g[\"stats\"][\"numcomments\"] for g in game_data]        #4532\n",
    "numweights = [g[\"stats\"][\"numweights\"] for g in game_data]          #1517\n",
    "averageweight = [g[\"stats\"][\"averageweight\"] for g in game_data]    #3.9123\n",
    "#ranks per category = pending\n",
    "total_votes_suggested_players = [g[\"suggested_players\"][\"total_votes\"] for g in game_data]     #1368\n",
    "#recommended player stats = abajo okay\n",
    "\n",
    "#language complexity stats = pending desde otra API request o webscraping\n",
    "#marketplace values = pending desde otra API request o webscraping\n"
   ]
  },
  {
   "cell_type": "code",
   "execution_count": null,
   "metadata": {},
   "outputs": [],
   "source": [
    "#good player count code\n",
    "recommended_players = []\n",
    "votes_for_best_num_players = []\n",
    "recommended_players_final = []\n",
    "votes_for_best_num_players_final = []\n",
    "\n",
    "for g in game_data:\n",
    "    temp_maxkey_list = []\n",
    "    temp_maxvalue_list = []\n",
    "    temp_votes = []\n",
    "    temp_player_list = list(g[\"suggested_players\"][\"results\"].keys())\n",
    "    \n",
    "    for num_plyrs in temp_player_list:\n",
    "        temp_votes.append(g[\"suggested_players\"][\"results\"][num_plyrs][\"best_rating\"])\n",
    "        if max(temp_votes) == g[\"suggested_players\"][\"results\"][num_plyrs][\"best_rating\"]:\n",
    "            temp_maxkey_list.append(g[\"suggested_players\"][\"results\"][num_plyrs])\n",
    "            temp_maxvalue_list.append(max(temp_votes))\n",
    "        votes_for_best_num_players.append(max(temp_maxvalue_list))\n",
    "        #aqui buscar el key que corresponde a votes_for_best_num_players[-1]\n",
    "        recommended_players.extend(\n",
    "            k\n",
    "            for k, v in g[\"suggested_players\"][\"results\"].items()\n",
    "            if v[\"best_rating\"] == votes_for_best_num_players[-1]\n",
    "        )\n",
    "    recommended_players_final.append(recommended_players[-1])\n",
    "    votes_for_best_num_players_final.append(votes_for_best_num_players[-1])\n",
    "\n",
    "print(len(recommended_players_final))\n",
    "print(len(votes_for_best_num_players_final))\n",
    "print(recommended_players_final[0])                         #3\n",
    "print(votes_for_best_num_players_final[0])      "
   ]
  },
  {
   "cell_type": "code",
   "execution_count": null,
   "metadata": {},
   "outputs": [
    {
     "name": "stdout",
     "output_type": "stream",
     "text": [
      "1500\n",
      "1500\n",
      "3\n",
      "666\n"
     ]
    }
   ],
   "source": [
    "'''#good player count code\n",
    "recommended_players = []\n",
    "votes_for_best_num_players = []\n",
    "recommended_players_final = []\n",
    "votes_for_best_num_players_final = []\n",
    "\n",
    "for g in game_data:\n",
    "    #print(f\"{g['id']}\")\n",
    "    temp_maxkey_list = []\n",
    "    temp_maxvalue_list = []\n",
    "    temp_votes = []\n",
    "    #print(\"loop check\")\n",
    "    temp_player_list = list(g[\"suggested_players\"][\"results\"].keys())\n",
    "    for num_plyrs in temp_player_list:\n",
    "        #print(num_plyrs)\n",
    "        #try:\n",
    "        temp_votes.append(g[\"suggested_players\"][\"results\"][num_plyrs][\"best_rating\"])\n",
    "        #print(max(temp_votes))\n",
    "        if max(temp_votes) == g[\"suggested_players\"][\"results\"][num_plyrs][\"best_rating\"]:\n",
    "            temp_maxkey_list.append(g[\"suggested_players\"][\"results\"][num_plyrs])\n",
    "            temp_maxvalue_list.append(max(temp_votes))     \n",
    "        #recommended_players.append(temp_maxkey_list)\n",
    "        votes_for_best_num_players.append(max(temp_maxvalue_list))\n",
    "        #aqui buscar el key que corresponde a votes_for_best_num_players[-1]\n",
    "        for k, v in g[\"suggested_players\"][\"results\"].items():\n",
    "            if v[\"best_rating\"] == votes_for_best_num_players[-1]:\n",
    "                recommended_players.append(k)\n",
    "        #except:\n",
    "            #print(f\"{g['id']}\")   \n",
    "    #print(f\"{g['id']} mejor con {recommended_players[-1]} y {votes_for_best_num_players[-1]} del total\")\n",
    "    recommended_players_final.append(recommended_players[-1])\n",
    "    votes_for_best_num_players_final.append(votes_for_best_num_players[-1])\n",
    "\n",
    "print(len(recommended_players_final))\n",
    "print(len(votes_for_best_num_players_final))\n",
    "print(recommended_players_final[0])                         #3\n",
    "print(votes_for_best_num_players_final[0])                  #664'''"
   ]
  },
  {
   "cell_type": "code",
   "execution_count": null,
   "metadata": {},
   "outputs": [],
   "source": [
    "recom_plyrs_int = []\n",
    "\n",
    "for i in recommended_players_final:\n",
    "    try:\n",
    "        recom_plyrs_int.append(int(i))\n",
    "    except Exception:\n",
    "        recom_plyrs_int.append(int('8'))"
   ]
  },
  {
   "cell_type": "code",
   "execution_count": null,
   "metadata": {},
   "outputs": [
    {
     "data": {
      "text/plain": [
       "[4, 8, 3, 3]"
      ]
     },
     "execution_count": 91,
     "metadata": {},
     "output_type": "execute_result"
    }
   ],
   "source": [
    "recom_plyrs_int[576:580]"
   ]
  },
  {
   "cell_type": "code",
   "execution_count": null,
   "metadata": {},
   "outputs": [
    {
     "name": "stdout",
     "output_type": "stream",
     "text": [
      "1500\n",
      "1500\n"
     ]
    }
   ],
   "source": [
    "print(len(recommended_players_final))\n",
    "print(len(recom_plyrs_int))"
   ]
  },
  {
   "cell_type": "markdown",
   "metadata": {},
   "source": [
    "CREACION DEL DATAFRAME FINAL"
   ]
  },
  {
   "cell_type": "code",
   "execution_count": null,
   "metadata": {},
   "outputs": [
    {
     "name": "stdout",
     "output_type": "stream",
     "text": [
      "1500\n",
      "1500\n",
      "1500\n",
      "1500\n",
      "1500\n",
      "1500\n",
      "1500\n",
      "1500\n",
      "1500\n",
      "1500\n",
      "1500\n",
      "1500\n",
      "1500\n",
      "1500\n",
      "1500\n",
      "1500\n",
      "1500\n",
      "1500\n",
      "1500\n",
      "1500\n",
      "1500\n",
      "1500\n",
      "1500\n",
      "1500\n"
     ]
    }
   ],
   "source": [
    "print(len(indices))\n",
    "print(len(name))\n",
    "print(len(ranking))\n",
    "print(len(expansion))\n",
    "print(len(accessory))\n",
    "print(len(categories))\n",
    "print(len(mechanics))\n",
    "print(len(yearpublished))\n",
    "print(len(minplayers))\n",
    "print(len(maxplayers))\n",
    "print(len(playingtime))\n",
    "print(len(minplaytime))\n",
    "print(len(maxplaytime))\n",
    "print(len(minage))\n",
    "print(len(usersrate))\n",
    "print(len(average))\n",
    "print(len(bayesaverage))\n",
    "print(len(stddev))\n",
    "print(len(numcomments))\n",
    "print(len(numweights))\n",
    "print(len(averageweight))\n",
    "print(len(total_votes_suggested_players))\n",
    "print(len(recom_plyrs_int))\n",
    "print(len(votes_for_best_num_players_final))"
   ]
  },
  {
   "cell_type": "code",
   "execution_count": null,
   "metadata": {},
   "outputs": [],
   "source": [
    "BGG_top_full = {}"
   ]
  },
  {
   "cell_type": "code",
   "execution_count": null,
   "metadata": {},
   "outputs": [],
   "source": [
    "BGG_top_full = pd.DataFrame({\"game_id\": indices,\n",
    "                    \"name\": name,\n",
    "                    \"ranking\": ranking,\n",
    "                    \"expansion\": expansion,\n",
    "                    \"accessory\": accessory,\n",
    "                    \"categories\": categories,\n",
    "                    \"mechanics\": mechanics,\n",
    "                    \"yearpublished\": yearpublished,\n",
    "                    \"minplayers\": minplayers,\n",
    "                    \"maxplayers\": maxplayers,\n",
    "                    \"playingtime\": playingtime,\n",
    "                    \"minplaytime\": minplaytime,\n",
    "                    \"maxplaytime\": maxplaytime,\n",
    "                    \"minage\": minage,\n",
    "                    \"usersrate\": usersrate,\n",
    "                    \"average\": average,\n",
    "                    \"bayesaverage\": bayesaverage,\n",
    "                    \"stddev\": stddev,\n",
    "                    \"numcomments\": numcomments,\n",
    "                    \"numweights\": numweights,\n",
    "                    \"averageweight\": averageweight,\n",
    "                    \"votes_suggested_players\": total_votes_suggested_players,\n",
    "                    \"recom_plyrs_int\": recom_plyrs_int,\n",
    "                    \"votes_best_players\": votes_for_best_num_players_final})"
   ]
  },
  {
   "cell_type": "code",
   "execution_count": null,
   "metadata": {},
   "outputs": [
    {
     "data": {
      "text/html": [
       "<div>\n",
       "<style scoped>\n",
       "    .dataframe tbody tr th:only-of-type {\n",
       "        vertical-align: middle;\n",
       "    }\n",
       "\n",
       "    .dataframe tbody tr th {\n",
       "        vertical-align: top;\n",
       "    }\n",
       "\n",
       "    .dataframe thead th {\n",
       "        text-align: right;\n",
       "    }\n",
       "</style>\n",
       "<table border=\"1\" class=\"dataframe\">\n",
       "  <thead>\n",
       "    <tr style=\"text-align: right;\">\n",
       "      <th></th>\n",
       "      <th>game_id</th>\n",
       "      <th>name</th>\n",
       "      <th>ranking</th>\n",
       "      <th>expansion</th>\n",
       "      <th>accessory</th>\n",
       "      <th>categories</th>\n",
       "      <th>mechanics</th>\n",
       "      <th>yearpublished</th>\n",
       "      <th>minplayers</th>\n",
       "      <th>maxplayers</th>\n",
       "      <th>...</th>\n",
       "      <th>usersrate</th>\n",
       "      <th>average</th>\n",
       "      <th>bayesaverage</th>\n",
       "      <th>stddev</th>\n",
       "      <th>numcomments</th>\n",
       "      <th>numweights</th>\n",
       "      <th>averageweight</th>\n",
       "      <th>votes_suggested_players</th>\n",
       "      <th>recom_plyrs_int</th>\n",
       "      <th>votes_best_players</th>\n",
       "    </tr>\n",
       "  </thead>\n",
       "  <tbody>\n",
       "    <tr>\n",
       "      <th>0</th>\n",
       "      <td>174430</td>\n",
       "      <td>Gloomhaven</td>\n",
       "      <td>1</td>\n",
       "      <td>False</td>\n",
       "      <td>False</td>\n",
       "      <td>[Adventure, Exploration, Fantasy, Fighting, Mi...</td>\n",
       "      <td>[Action Queue, Action Retrieval, Campaign / Ba...</td>\n",
       "      <td>2017</td>\n",
       "      <td>1</td>\n",
       "      <td>4</td>\n",
       "      <td>...</td>\n",
       "      <td>52915</td>\n",
       "      <td>8.68839</td>\n",
       "      <td>8.45730</td>\n",
       "      <td>1.66660</td>\n",
       "      <td>9323</td>\n",
       "      <td>2259</td>\n",
       "      <td>3.8884</td>\n",
       "      <td>1370</td>\n",
       "      <td>3</td>\n",
       "      <td>666</td>\n",
       "    </tr>\n",
       "    <tr>\n",
       "      <th>1</th>\n",
       "      <td>224517</td>\n",
       "      <td>Brass: Birmingham</td>\n",
       "      <td>2</td>\n",
       "      <td>False</td>\n",
       "      <td>False</td>\n",
       "      <td>[Economic, Industry / Manufacturing, Post-Napo...</td>\n",
       "      <td>[Hand Management, Income, Loans, Market, Netwo...</td>\n",
       "      <td>2018</td>\n",
       "      <td>2</td>\n",
       "      <td>4</td>\n",
       "      <td>...</td>\n",
       "      <td>31679</td>\n",
       "      <td>8.65539</td>\n",
       "      <td>8.43143</td>\n",
       "      <td>1.25401</td>\n",
       "      <td>4555</td>\n",
       "      <td>1528</td>\n",
       "      <td>3.9116</td>\n",
       "      <td>739</td>\n",
       "      <td>3</td>\n",
       "      <td>400</td>\n",
       "    </tr>\n",
       "    <tr>\n",
       "      <th>2</th>\n",
       "      <td>161936</td>\n",
       "      <td>Pandemic Legacy: Season 1</td>\n",
       "      <td>3</td>\n",
       "      <td>False</td>\n",
       "      <td>False</td>\n",
       "      <td>[Environmental, Medical]</td>\n",
       "      <td>[Action Points, Cooperative Game, Hand Managem...</td>\n",
       "      <td>2015</td>\n",
       "      <td>2</td>\n",
       "      <td>4</td>\n",
       "      <td>...</td>\n",
       "      <td>48019</td>\n",
       "      <td>8.56940</td>\n",
       "      <td>8.41822</td>\n",
       "      <td>1.56725</td>\n",
       "      <td>7200</td>\n",
       "      <td>1314</td>\n",
       "      <td>2.8311</td>\n",
       "      <td>765</td>\n",
       "      <td>4</td>\n",
       "      <td>443</td>\n",
       "    </tr>\n",
       "    <tr>\n",
       "      <th>3</th>\n",
       "      <td>342942</td>\n",
       "      <td>Ark Nova</td>\n",
       "      <td>4</td>\n",
       "      <td>False</td>\n",
       "      <td>False</td>\n",
       "      <td>[Animals, Economic, Environmental]</td>\n",
       "      <td>[End Game Bonuses, Hand Management, Hexagon Gr...</td>\n",
       "      <td>2021</td>\n",
       "      <td>1</td>\n",
       "      <td>4</td>\n",
       "      <td>...</td>\n",
       "      <td>19214</td>\n",
       "      <td>8.60223</td>\n",
       "      <td>8.27770</td>\n",
       "      <td>1.33128</td>\n",
       "      <td>2653</td>\n",
       "      <td>1155</td>\n",
       "      <td>3.7022</td>\n",
       "      <td>907</td>\n",
       "      <td>2</td>\n",
       "      <td>556</td>\n",
       "    </tr>\n",
       "    <tr>\n",
       "      <th>4</th>\n",
       "      <td>167791</td>\n",
       "      <td>Terraforming Mars</td>\n",
       "      <td>5</td>\n",
       "      <td>False</td>\n",
       "      <td>False</td>\n",
       "      <td>[Economic, Environmental, Industry / Manufactu...</td>\n",
       "      <td>[Closed Drafting, Contracts, Enclosure, End Ga...</td>\n",
       "      <td>2016</td>\n",
       "      <td>1</td>\n",
       "      <td>5</td>\n",
       "      <td>...</td>\n",
       "      <td>82913</td>\n",
       "      <td>8.39650</td>\n",
       "      <td>8.25101</td>\n",
       "      <td>1.39464</td>\n",
       "      <td>11985</td>\n",
       "      <td>3404</td>\n",
       "      <td>3.2497</td>\n",
       "      <td>2156</td>\n",
       "      <td>3</td>\n",
       "      <td>1254</td>\n",
       "    </tr>\n",
       "  </tbody>\n",
       "</table>\n",
       "<p>5 rows × 24 columns</p>\n",
       "</div>"
      ],
      "text/plain": [
       "  game_id                       name ranking  expansion  accessory  \\\n",
       "0  174430                 Gloomhaven       1      False      False   \n",
       "1  224517          Brass: Birmingham       2      False      False   \n",
       "2  161936  Pandemic Legacy: Season 1       3      False      False   \n",
       "3  342942                   Ark Nova       4      False      False   \n",
       "4  167791          Terraforming Mars       5      False      False   \n",
       "\n",
       "                                          categories  \\\n",
       "0  [Adventure, Exploration, Fantasy, Fighting, Mi...   \n",
       "1  [Economic, Industry / Manufacturing, Post-Napo...   \n",
       "2                           [Environmental, Medical]   \n",
       "3                 [Animals, Economic, Environmental]   \n",
       "4  [Economic, Environmental, Industry / Manufactu...   \n",
       "\n",
       "                                           mechanics  yearpublished  \\\n",
       "0  [Action Queue, Action Retrieval, Campaign / Ba...           2017   \n",
       "1  [Hand Management, Income, Loans, Market, Netwo...           2018   \n",
       "2  [Action Points, Cooperative Game, Hand Managem...           2015   \n",
       "3  [End Game Bonuses, Hand Management, Hexagon Gr...           2021   \n",
       "4  [Closed Drafting, Contracts, Enclosure, End Ga...           2016   \n",
       "\n",
       "   minplayers  maxplayers  ...  usersrate  average  bayesaverage   stddev  \\\n",
       "0           1           4  ...      52915  8.68839       8.45730  1.66660   \n",
       "1           2           4  ...      31679  8.65539       8.43143  1.25401   \n",
       "2           2           4  ...      48019  8.56940       8.41822  1.56725   \n",
       "3           1           4  ...      19214  8.60223       8.27770  1.33128   \n",
       "4           1           5  ...      82913  8.39650       8.25101  1.39464   \n",
       "\n",
       "   numcomments  numweights  averageweight  votes_suggested_players  \\\n",
       "0         9323        2259         3.8884                     1370   \n",
       "1         4555        1528         3.9116                      739   \n",
       "2         7200        1314         2.8311                      765   \n",
       "3         2653        1155         3.7022                      907   \n",
       "4        11985        3404         3.2497                     2156   \n",
       "\n",
       "   recom_plyrs_int  votes_best_players  \n",
       "0                3                 666  \n",
       "1                3                 400  \n",
       "2                4                 443  \n",
       "3                2                 556  \n",
       "4                3                1254  \n",
       "\n",
       "[5 rows x 24 columns]"
      ]
     },
     "execution_count": 101,
     "metadata": {},
     "output_type": "execute_result"
    }
   ],
   "source": [
    "BGG_top_full.head()"
   ]
  },
  {
   "cell_type": "code",
   "execution_count": null,
   "metadata": {},
   "outputs": [
    {
     "data": {
      "text/plain": [
       "1500"
      ]
     },
     "execution_count": 102,
     "metadata": {},
     "output_type": "execute_result"
    }
   ],
   "source": [
    "len(BGG_top_full)"
   ]
  },
  {
   "cell_type": "code",
   "execution_count": null,
   "metadata": {},
   "outputs": [],
   "source": [
    "BGG_top_full.to_csv(\"/Users/nickkempe/Documents/GitHub/WORK_FILE_ds_ft_sep_22/2-Data_Analysis/Entregas/EDA/BGG/all_final/BGG_top_full_2022_11_01.csv\", index=False)"
   ]
  }
 ],
 "metadata": {
  "kernelspec": {
   "display_name": "Python 3.10.6 ('oct_env')",
   "language": "python",
   "name": "python3"
  },
  "language_info": {
   "codemirror_mode": {
    "name": "ipython",
    "version": 3
   },
   "file_extension": ".py",
   "mimetype": "text/x-python",
   "name": "python",
   "nbconvert_exporter": "python",
   "pygments_lexer": "ipython3",
   "version": "3.10.6"
  },
  "orig_nbformat": 4,
  "vscode": {
   "interpreter": {
    "hash": "967bd4558267960a03fe073379e3f4762d708845bf87b811ca4cf52a0f565092"
   }
  }
 },
 "nbformat": 4,
 "nbformat_minor": 2
}
